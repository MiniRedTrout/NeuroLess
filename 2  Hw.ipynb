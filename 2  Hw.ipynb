{
  "nbformat": 4,
  "nbformat_minor": 0,
  "metadata": {
    "colab": {
      "provenance": [],
      "gpuType": "T4",
      "authorship_tag": "ABX9TyNQ6aNM21qNcKEu5U3bQI13",
      "include_colab_link": true
    },
    "kernelspec": {
      "name": "python3",
      "display_name": "Python 3"
    },
    "language_info": {
      "name": "python"
    },
    "accelerator": "GPU"
  },
  "cells": [
    {
      "cell_type": "markdown",
      "metadata": {
        "id": "view-in-github",
        "colab_type": "text"
      },
      "source": [
        "<a href=\"https://colab.research.google.com/github/MiniRedTrout/NeuroLess/blob/main/2)Hw.ipynb\" target=\"_parent\"><img src=\"https://colab.research.google.com/assets/colab-badge.svg\" alt=\"Open In Colab\"/></a>"
      ]
    },
    {
      "cell_type": "code",
      "execution_count": 1,
      "metadata": {
        "id": "RVkRCVJzpT7o"
      },
      "outputs": [],
      "source": [
        "import torch\n",
        "from torch import nn\n",
        "from torch.nn import functional as F\n",
        "import torch.optim as optim\n",
        "from sklearn.datasets import load_iris\n",
        "import numpy as np\n",
        "import pandas as pd\n",
        "from sklearn.model_selection import train_test_split\n",
        "from torch.utils.data import DataLoader, TensorDataset\n",
        "from sklearn.preprocessing import StandardScaler\n",
        "from sklearn.metrics import accuracy_score\n",
        "from torch.optim.lr_scheduler import ReduceLROnPlateau"
      ]
    },
    {
      "cell_type": "markdown",
      "source": [
        "Ввели библиотеки)"
      ],
      "metadata": {
        "id": "XUdKziU3Guh9"
      }
    },
    {
      "cell_type": "code",
      "source": [
        "torch.cuda.is_available()"
      ],
      "metadata": {
        "colab": {
          "base_uri": "https://localhost:8080/"
        },
        "id": "Mf6W9KXfqGVn",
        "outputId": "70fa4e8b-3ff0-4497-8c22-665c5eb5ae4d"
      },
      "execution_count": 2,
      "outputs": [
        {
          "output_type": "execute_result",
          "data": {
            "text/plain": [
              "True"
            ]
          },
          "metadata": {},
          "execution_count": 2
        }
      ]
    },
    {
      "cell_type": "code",
      "source": [
        "np.random.seed(42)\n",
        "iris =  load_iris()\n",
        "X = iris.data\n",
        "y = iris.target"
      ],
      "metadata": {
        "id": "rU1UdOYPqUls"
      },
      "execution_count": 3,
      "outputs": []
    },
    {
      "cell_type": "code",
      "source": [
        "X_train,X_test,y_train,y_test = train_test_split(X,y,test_size=0.2)"
      ],
      "metadata": {
        "id": "_Ms1InXDqsnH"
      },
      "execution_count": 4,
      "outputs": []
    },
    {
      "cell_type": "markdown",
      "source": [
        "Стандартизируем, помогло, чтобы при обучении ошибка не скакала"
      ],
      "metadata": {
        "id": "k-srqptOG1yR"
      }
    },
    {
      "cell_type": "code",
      "source": [
        "scal = StandardScaler()\n",
        "X_train = scal.fit_transform(X_train)\n",
        "X_test = scal.transform(X_test)\n",
        "X_train = torch.tensor(X_train, dtype=torch.float32)\n",
        "X_test = torch.tensor(X_test, dtype=torch.float32)\n",
        "y_train = torch.tensor(y_train, dtype=torch.long)\n",
        "y_test = torch.tensor(y_test, dtype=torch.long)"
      ],
      "metadata": {
        "id": "xRF8_DMYrh00"
      },
      "execution_count": 5,
      "outputs": []
    },
    {
      "cell_type": "code",
      "source": [
        "train = TensorDataset(X_train,y_train)\n",
        "test = TensorDataset(X_test,y_test)\n",
        "train = DataLoader(train,batch_size=16)\n",
        "test = DataLoader(test,batch_size=16)\n"
      ],
      "metadata": {
        "id": "xPDUtxC2sBzk"
      },
      "execution_count": 6,
      "outputs": []
    },
    {
      "cell_type": "markdown",
      "source": [
        "Моделька"
      ],
      "metadata": {
        "id": "Efn15rypG9iE"
      }
    },
    {
      "cell_type": "code",
      "source": [
        "class iris_model(nn.Module):\n",
        "    def __init__(self, input_size, hidden_size):\n",
        "      super(iris_model,self).__init__()\n",
        "      self.layers = nn.Sequential(\n",
        "          nn.Linear(input_size, hidden_size),\n",
        "          nn.BatchNorm1d(hidden_size),\n",
        "          nn.ReLU(),\n",
        "          nn.Dropout(0.4),\n",
        "          nn.Linear(hidden_size, hidden_size // 4),\n",
        "          nn.BatchNorm1d(hidden_size // 4),\n",
        "          nn.ReLU(),\n",
        "          nn.Dropout(0.4),\n",
        "          nn.Linear(hidden_size // 4, 3)\n",
        "      )\n",
        "    def forward(self, x):\n",
        "      return self.layers(x)"
      ],
      "metadata": {
        "id": "cR7mE09xs6gq"
      },
      "execution_count": 7,
      "outputs": []
    },
    {
      "cell_type": "code",
      "source": [
        "device = torch.device('cuda')\n",
        "model = iris_model(input_size=4,hidden_size=64)"
      ],
      "metadata": {
        "id": "VGizjLvKvq2t"
      },
      "execution_count": 8,
      "outputs": []
    },
    {
      "cell_type": "code",
      "source": [
        "model.to(device)"
      ],
      "metadata": {
        "colab": {
          "base_uri": "https://localhost:8080/"
        },
        "id": "JA4rBZuiw-_4",
        "outputId": "bf83db07-9fb4-4240-d887-7123a6a17d26"
      },
      "execution_count": 9,
      "outputs": [
        {
          "output_type": "execute_result",
          "data": {
            "text/plain": [
              "iris_model(\n",
              "  (layers): Sequential(\n",
              "    (0): Linear(in_features=4, out_features=64, bias=True)\n",
              "    (1): BatchNorm1d(64, eps=1e-05, momentum=0.1, affine=True, track_running_stats=True)\n",
              "    (2): ReLU()\n",
              "    (3): Dropout(p=0.4, inplace=False)\n",
              "    (4): Linear(in_features=64, out_features=16, bias=True)\n",
              "    (5): BatchNorm1d(16, eps=1e-05, momentum=0.1, affine=True, track_running_stats=True)\n",
              "    (6): ReLU()\n",
              "    (7): Dropout(p=0.4, inplace=False)\n",
              "    (8): Linear(in_features=16, out_features=3, bias=True)\n",
              "  )\n",
              ")"
            ]
          },
          "metadata": {},
          "execution_count": 9
        }
      ]
    },
    {
      "cell_type": "code",
      "source": [
        "criterion = nn.CrossEntropyLoss()\n",
        "optimizer = optim.Adam(model.parameters(), lr=0.005)"
      ],
      "metadata": {
        "id": "Xrpjf7-KyfTJ"
      },
      "execution_count": 10,
      "outputs": []
    },
    {
      "cell_type": "markdown",
      "source": [
        "Тренирую"
      ],
      "metadata": {
        "id": "vgHH3omyHAhc"
      }
    },
    {
      "cell_type": "code",
      "source": [
        "def train_epoch(model, dtload, criterion, optimizer, device):\n",
        "    for epoch in range(1000):\n",
        "      model.train()\n",
        "      losses = []\n",
        "      for batchX, batchy in dtload:\n",
        "          batchX, batchy = batchX.to(device), batchy.to(device)\n",
        "          optimizer.zero_grad()\n",
        "          out = model(batchX)\n",
        "          loss = criterion(out, batchy)\n",
        "          loss.backward()\n",
        "          optimizer.step()\n",
        "          losses.append(loss.item())\n",
        "      if epoch % 100 == 0:\n",
        "          print(f'Epoch {epoch}  loss {sum(losses)/len(dtload)}')\n",
        "\n",
        "train_epoch(model,train,criterion,optimizer,device)"
      ],
      "metadata": {
        "colab": {
          "base_uri": "https://localhost:8080/"
        },
        "id": "XEVULA-0yzMI",
        "outputId": "4285c865-a4fe-4d1e-99a0-b57a5626ea54"
      },
      "execution_count": 11,
      "outputs": [
        {
          "output_type": "stream",
          "name": "stdout",
          "text": [
            "Epoch 0  loss 0.9044895395636559\n",
            "Epoch 100  loss 0.07253990636672825\n",
            "Epoch 200  loss 0.09083488397300243\n",
            "Epoch 300  loss 0.12992292328272015\n",
            "Epoch 400  loss 0.08159535811864771\n",
            "Epoch 500  loss 0.07232164032757282\n",
            "Epoch 600  loss 0.02043365640565753\n",
            "Epoch 700  loss 0.060011376393958926\n",
            "Epoch 800  loss 0.054398815729655325\n",
            "Epoch 900  loss 0.05681553762406111\n"
          ]
        }
      ]
    },
    {
      "cell_type": "markdown",
      "source": [
        "Оценка"
      ],
      "metadata": {
        "id": "huD8ESQCHQXk"
      }
    },
    {
      "cell_type": "code",
      "source": [
        "def val(model, dtload, device):\n",
        "    model.eval()\n",
        "    all_predictions = []\n",
        "\n",
        "    with torch.no_grad():\n",
        "        for batch in dtload:\n",
        "            batchX, batchy = batch\n",
        "            batchX, batchy = batchX.to(device), batchy.to(device)\n",
        "\n",
        "            out = model(batchX)\n",
        "            predictions = torch.argmax(out, dim=1)\n",
        "\n",
        "            all_predictions.extend(predictions.cpu().numpy())\n",
        "\n",
        "    return np.array(all_predictions)\n",
        "\n",
        "from sklearn.metrics import classification_report\n",
        "\n",
        "predictions = val(model, test, device)\n",
        "accuracy = accuracy_score(y_test, predictions)\n",
        "print(f\"Accuracy: {accuracy}\")\n",
        "print(classification_report(y_test, predictions))"
      ],
      "metadata": {
        "colab": {
          "base_uri": "https://localhost:8080/"
        },
        "id": "z3V1LFyS3H_-",
        "outputId": "a376bd15-9963-48c5-ac40-c4fc3a4f091a"
      },
      "execution_count": 12,
      "outputs": [
        {
          "output_type": "stream",
          "name": "stdout",
          "text": [
            "Accuracy: 1.0\n",
            "              precision    recall  f1-score   support\n",
            "\n",
            "           0       1.00      1.00      1.00        10\n",
            "           1       1.00      1.00      1.00         9\n",
            "           2       1.00      1.00      1.00        11\n",
            "\n",
            "    accuracy                           1.00        30\n",
            "   macro avg       1.00      1.00      1.00        30\n",
            "weighted avg       1.00      1.00      1.00        30\n",
            "\n"
          ]
        }
      ]
    }
  ]
}
